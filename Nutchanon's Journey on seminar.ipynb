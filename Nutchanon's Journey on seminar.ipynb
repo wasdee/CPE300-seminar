{
 "cells": [
  {
   "cell_type": "markdown",
   "metadata": {},
   "source": [
    "# Nutchanon's Journey on seminar"
   ]
  },
  {
   "cell_type": "markdown",
   "metadata": {},
   "source": [
    "> My time spent ratio - Finance 10% Chatbot 10% Deep Learning 80%"
   ]
  },
  {
   "cell_type": "markdown",
   "metadata": {},
   "source": [
    "For those who don't know, Seminar course is what junior KMUTT computer engineer need to take. This course aims to provide preparation to the 4th year senior project, the ultimate project to graduate this faculty. The tradition of the course is that juniors find their own partner professor who will guide/help on this course.\n",
    "\n",
    "My journery to these three topics was something special. I dreamt, googled and decised whether those topics are really ready for production or not.  I have big interest in those, but I need to go with one topic I thought most suitable for me at that time. This is hard moment for me. My conclusion is that; **Finance**, particularly trading in equities, option and other securities can be done later in my freetime. **Chatbot**, particularly Thai language chatbot; this one is not really in my attention anymore because Thai NLP is so WEAK. The comunity don't even share their source code. So, it would be amazingly waste of time to push this. **Deep learning**, I mysterously fell in love with this topic. Althrough, at first it appeared that this topic is too new, too reasearch and too theory. But, at the end I found a good learning resource. So, I can get back on the track of master it."
   ]
  },
  {
   "cell_type": "markdown",
   "metadata": {
    "heading_collapsed": true
   },
   "source": [
    "# Finance"
   ]
  },
  {
   "cell_type": "markdown",
   "metadata": {
    "hidden": true
   },
   "source": [
    "> I saw an unripe apple. I better let it hang on the tree a bit long.\n",
    "\n",
    "I googled/talked around this topic for a month. Finance, specifically trading is not a small topic. On one hand, it may seem pretty easy to go into, to get started. But actually they are not open as you might think. One case is that, if you want a raw data to run some ML on. Obtaining that data is truly a sweat and tears job. Waiting in the bush is my decision."
   ]
  },
  {
   "cell_type": "markdown",
   "metadata": {
    "heading_collapsed": true,
    "hidden": true
   },
   "source": [
    "## inspiration"
   ]
  },
  {
   "cell_type": "markdown",
   "metadata": {
    "hidden": true
   },
   "source": [
    "Aj. Marong is the first teacher I talked to about the seminar subject. The first thing that strike, ignite my idea about this was [Numerai news](https://www.technologyreview.com/s/603120/new-hedge-fund-relies-on-an-anonymous-army-of-coders-to-turn-a-profit/).\n",
    "\n",
    "![Hedge Fund founder](https://d267cvn3rvuq91.cloudfront.net/i/images/richardcraib.jpg?sw=373&cx=246&cy=18&cw=595&ch=744)\n",
    "He is Richard Craib, San Francisco.\n",
    "\n",
    "I thought we can do a lot on finance using ML. Thailand is not so advanced in robo-trading. These were my hypothesis. \n",
    "\n",
    "Then, I did some research on some topics of finance. In order to construct an imaginative robo-assist trading. \n",
    "\n",
    "In my imagination; normally I know which stock I want to buy/sell, but I don't know the timing. So, I want to create a robot that given it a period of time. and my target stock. I am able to collect it at a price lower than the avg buy."
   ]
  },
  {
   "cell_type": "markdown",
   "metadata": {
    "hidden": true
   },
   "source": [
    "![](images/Finance robo model.png)"
   ]
  },
  {
   "cell_type": "markdown",
   "metadata": {
    "heading_collapsed": true,
    "hidden": true
   },
   "source": [
    "## Execute buy/sell order using API"
   ]
  },
  {
   "cell_type": "markdown",
   "metadata": {
    "hidden": true
   },
   "source": [
    "There are 2 ways of making this possible.\n",
    "1. Obtain official API which mean I need to co-operate with a securities crop. \n",
    "2. Reverse engineer the API and kept it secret(illegal)\n",
    "3. Browser Automation\n",
    "\n",
    "I have talk to a senior. He said that the SET market API could be fairly easily reversed engineer due to its not-encryption. He had done this before. He also mention about illegal of using it.\n",
    "\n",
    "My conclusion was that if I cannot spread my success. why I would like to do this at the first place. So, I hold this ideal until I got an opputunity later."
   ]
  },
  {
   "cell_type": "markdown",
   "metadata": {
    "heading_collapsed": true,
    "hidden": true
   },
   "source": [
    "## Trading Strategy "
   ]
  },
  {
   "cell_type": "markdown",
   "metadata": {
    "hidden": true
   },
   "source": [
    "*Camarilla pivot point* is a type of follow trade strategy. It basically mark where you should consider long or short asset. If the price line pass a pivot. observe it direction for a moment then trade. For example, if the price line heading down then you make a short decision.\n"
   ]
  },
  {
   "cell_type": "markdown",
   "metadata": {
    "hidden": true
   },
   "source": [
    "![](images/Day_Trader_Pivots_body_Picture_3.png)"
   ]
  },
  {
   "cell_type": "markdown",
   "metadata": {
    "hidden": true
   },
   "source": [
    "## resources"
   ]
  },
  {
   "cell_type": "markdown",
   "metadata": {
    "hidden": true
   },
   "source": [
    "Pubulic Person on facebook\n",
    "* Chaipat Nengcomma\n",
    "\n",
    "He also have youtube channel teach me about many concepts. He is also very experience person with broad knowledge of trading securities including global securities. One of his follower collect all his historical post on facebook over 1 year. Here [it is](https://docs.google.com/document/d/1nGvkGJQb_-ILo98DphWituD1dLVRhJNoXpBaXrXUL6w/edit?usp=sharing)."
   ]
  },
  {
   "cell_type": "markdown",
   "metadata": {},
   "source": [
    "# Chatbot"
   ]
  },
  {
   "cell_type": "markdown",
   "metadata": {},
   "source": [
    "When the day of select an advisor comes, I had a few topic left in my mind. In last semester, I develope a chatbot, the working one as a lifetime project. I love that chatbot, and would like to see if I can even develop it more fruitful. These are the characteristic of my bot.\n",
    "1. NunnallyDes, its name.\n",
    "2. Notifing users if new episode of his favorite anime/manga come out, its duty\n",
    "3. Had been Operating for 2 months on Heroku.\n",
    "4. Responsing in Thai language.\n",
    "5. Working on facebook messenger platform\n"
   ]
  },
  {
   "cell_type": "code",
   "execution_count": 8,
   "metadata": {
    "ExecuteTime": {
     "end_time": "2017-04-26T22:36:04.172479Z",
     "start_time": "2017-04-26T22:36:01.721310Z"
    },
    "collapsed": false
   },
   "outputs": [
    {
     "data": {
      "text/html": [
       "\n",
       "        <iframe\n",
       "            width=\"853.3333333333334\"\n",
       "            height=\"480.0\"\n",
       "            src=\"https://www.youtube.com/embed/7kHINUn2SkM\"\n",
       "            frameborder=\"0\"\n",
       "            allowfullscreen\n",
       "        ></iframe>\n",
       "        "
      ],
      "text/plain": [
       "<IPython.lib.display.YouTubeVideo at 0x10394c390>"
      ]
     },
     "execution_count": 8,
     "metadata": {},
     "output_type": "execute_result"
    }
   ],
   "source": [
    "from IPython.display import YouTubeVideo\n",
    "YouTubeVideo(\"7kHINUn2SkM\",width=1280/1.5, height=720/1.5)"
   ]
  },
  {
   "cell_type": "markdown",
   "metadata": {},
   "source": [
    "After a period of develope, I knew how lacking of NLP Thai library it was. I did think that if I sacrifice some of my time on Thai NLP maybe I could improve this situation. Then Aj. Santitum anounce his 4 seminar topics. Three of them are\n",
    "\n",
    "1. NLP\n",
    "2. Chatbot\n",
    "3. Data Science\n",
    "\n",
    "Most of his topic interest are same to mine. So, I picked him as my advisor.\n",
    "Chatbot while I study the componnent to enrich my Nunnally, I found NLP Thai languange was awful. They wrote in languange(2nd gen) like C, C++ and they not open the source to public. In final, I discarded to continue chatbot."
   ]
  },
  {
   "cell_type": "markdown",
   "metadata": {
    "ExecuteTime": {
     "end_time": "2017-04-24T06:45:11.592840Z",
     "start_time": "2017-04-24T06:45:11.581808Z"
    }
   },
   "source": [
    "# Deep Learning"
   ]
  },
  {
   "cell_type": "code",
   "execution_count": null,
   "metadata": {
    "collapsed": true
   },
   "outputs": [],
   "source": []
  }
 ],
 "metadata": {
  "hide_input": false,
  "kernelspec": {
   "display_name": "Python 3",
   "language": "python",
   "name": "python3"
  },
  "language_info": {
   "codemirror_mode": {
    "name": "ipython",
    "version": 3
   },
   "file_extension": ".py",
   "mimetype": "text/x-python",
   "name": "python",
   "nbconvert_exporter": "python",
   "pygments_lexer": "ipython3",
   "version": "3.6.0"
  },
  "notify_time": "5",
  "toc": {
   "colors": {
    "hover_highlight": "#DAA520",
    "running_highlight": "#FF0000",
    "selected_highlight": "#FFD700"
   },
   "moveMenuLeft": true,
   "nav_menu": {
    "height": "156px",
    "width": "252px"
   },
   "navigate_menu": true,
   "number_sections": true,
   "sideBar": true,
   "threshold": 4,
   "toc_cell": false,
   "toc_section_display": "block",
   "toc_window_display": false,
   "widenNotebook": false
  },
  "varInspector": {
   "cols": {
    "lenName": 16,
    "lenType": 16,
    "lenVar": 40
   },
   "kernels_config": {
    "python": {
     "delete_cmd_postfix": "",
     "delete_cmd_prefix": "del ",
     "library": "var_list.py",
     "varRefreshCmd": "print(var_dic_list())"
    },
    "r": {
     "delete_cmd_postfix": ") ",
     "delete_cmd_prefix": "rm(",
     "library": "var_list.r",
     "varRefreshCmd": "cat(var_dic_list()) "
    }
   },
   "types_to_exclude": [
    "module",
    "function",
    "builtin_function_or_method",
    "instance",
    "_Feature"
   ],
   "window_display": false
  }
 },
 "nbformat": 4,
 "nbformat_minor": 2
}
